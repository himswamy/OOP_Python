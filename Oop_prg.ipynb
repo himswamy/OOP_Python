{
 "cells": [
  {
   "cell_type": "code",
   "execution_count": 4,
   "metadata": {
    "collapsed": true
   },
   "outputs": [],
   "source": [
    "?str\n",
    "\n",
    "help(str)"
   ]
  },
  {
   "cell_type": "code",
   "execution_count": 17,
   "metadata": {},
   "outputs": [
    {
     "data": {
      "text/plain": [
       "[3, 1, 2]"
      ]
     },
     "execution_count": 17,
     "metadata": {},
     "output_type": "execute_result"
    }
   ],
   "source": [
    "dictr = {3:'python',1:'java',2:'big data'}\n",
    "\n",
    "ks = list(dictr.keys())\n",
    "ks\n",
    "\n",
    "sk = sorted(ks)\n",
    "sk\n",
    "\n",
    "str(dictr)\n",
    "\n",
    "dicts = {3:['a','b'],2:(10,11,12)}  "
   ]
  },
  {
   "cell_type": "code",
   "execution_count": 18,
   "metadata": {},
   "outputs": [
    {
     "data": {
      "text/plain": [
       "[1, 2, 3]"
      ]
     },
     "execution_count": 18,
     "metadata": {},
     "output_type": "execute_result"
    }
   ],
   "source": [
    "him"
   ]
  },
  {
   "cell_type": "code",
   "execution_count": 35,
   "metadata": {
    "collapsed": true
   },
   "outputs": [],
   "source": [
    "dicts = {1:['a','b'],2:(10,11,12)}\n",
    "\n",
    "dicts[1][0]\n",
    "\n",
    "dicts[5]=\"Edu\""
   ]
  },
  {
   "cell_type": "code",
   "execution_count": 42,
   "metadata": {},
   "outputs": [
    {
     "name": "stdout",
     "output_type": "stream",
     "text": [
      "{1, 2, 3, 5, 6, 8}\n"
     ]
    }
   ],
   "source": [
    "my_set.discard(4)\n",
    "print(my_set)"
   ]
  },
  {
   "cell_type": "code",
   "execution_count": 38,
   "metadata": {},
   "outputs": [
    {
     "name": "stdout",
     "output_type": "stream",
     "text": [
      "{1, 2, 3}\n",
      "{1, 2, 3, 4}\n",
      "{1, 2, 3, 4, 5, 6, 8}\n",
      "{1, 2, 3, 5, 6, 8}\n"
     ]
    }
   ],
   "source": [
    "#str(dictionary_u)\n",
    "\n",
    "my_set = {1, 2, 3}\n",
    "print(my_set)\n",
    "\n",
    "\n",
    "my_set.update([2, 3, 4])\n",
    "print(my_set)\n",
    "# add list and set\n",
    "\n",
    "my_set.update([4, 5], {1, 6, 8})\n",
    "print(my_set)\n",
    "\n",
    "my_set.discard(4)\n",
    "print(my_set)\n",
    "\n",
    "my_set = set(\"HelloWorld\")\n",
    "print(my_set)\n"
   ]
  },
  {
   "cell_type": "code",
   "execution_count": 56,
   "metadata": {},
   "outputs": [
    {
     "name": "stdout",
     "output_type": "stream",
     "text": [
      "True\n"
     ]
    }
   ],
   "source": [
    "my_set = set(\"apple\")\n",
    "\n",
    "\n",
    "print('a' in my_set)\n"
   ]
  },
  {
   "cell_type": "code",
   "execution_count": 2,
   "metadata": {},
   "outputs": [
    {
     "name": "stdout",
     "output_type": "stream",
     "text": [
      "X is less than Y\n"
     ]
    }
   ],
   "source": [
    "X=10\n",
    "\n",
    "Y=12\n",
    "\n",
    "if(X<Y):\n",
    "    print('X is less than Y')\n",
    "    \n",
    "elif(X>Y):\n",
    "    print('X is greater than Y')\n",
    "    \n",
    "else:\n",
    "    print('X and Y are equal')\n"
   ]
  },
  {
   "cell_type": "code",
   "execution_count": 3,
   "metadata": {},
   "outputs": [
    {
     "name": "stdout",
     "output_type": "stream",
     "text": [
      "Total score:  41\n"
     ]
    }
   ],
   "source": [
    "score_theory = 21\n",
    "score_practical = 20\n",
    "\n",
    "if(score_theory > 30):\n",
    "    print(\"Please check theory'.\") \n",
    "    \n",
    "elif(score_practical > 50):\n",
    "    print(\"Please check Practical.\")  \n",
    "    \n",
    "else:\n",
    "    print(\"Total score: \",score_theory + score_practical)"
   ]
  },
  {
   "cell_type": "code",
   "execution_count": null,
   "metadata": {
    "collapsed": true
   },
   "outputs": [],
   "source": [
    "count = 1\n",
    "\n",
    "while (count < 3):      \n",
    "    count = count + 1 \n",
    "    print(\"Hello Geek\")  "
   ]
  },
  {
   "cell_type": "code",
   "execution_count": 9,
   "metadata": {},
   "outputs": [
    {
     "data": {
      "text/plain": [
       "['e', 'd', 'u', 'r', 'e', 'k', 'a']"
      ]
     },
     "execution_count": 9,
     "metadata": {},
     "output_type": "execute_result"
    }
   ],
   "source": [
    "l = \"edureka\"\n",
    "\n",
    "[i for i in l]"
   ]
  },
  {
   "cell_type": "code",
   "execution_count": 6,
   "metadata": {},
   "outputs": [
    {
     "name": "stdout",
     "output_type": "stream",
     "text": [
      "1.73\n",
      "1.68\n",
      "1.71\n",
      "1.89\n"
     ]
    }
   ],
   "source": [
    "fam = [1.73, 1.68, 1.71, 1.89]\n",
    "\n",
    "for height in fam :\n",
    "    print(height)\n"
   ]
  },
  {
   "cell_type": "code",
   "execution_count": 10,
   "metadata": {},
   "outputs": [
    {
     "name": "stdout",
     "output_type": "stream",
     "text": [
      "red apple\n",
      "red banana\n",
      "red cherry\n",
      "big apple\n",
      "big banana\n",
      "big cherry\n",
      "tasty apple\n",
      "tasty banana\n",
      "tasty cherry\n"
     ]
    }
   ],
   "source": [
    "adj = [\"red\", \"big\", \"tasty\"]\n",
    "\n",
    "fruits = [\"apple\", \"banana\", \"cherry\"]\n",
    "\n",
    "for x in adj:\n",
    "    for y in fruits:\n",
    "        print(x, y)"
   ]
  },
  {
   "cell_type": "code",
   "execution_count": 16,
   "metadata": {},
   "outputs": [
    {
     "name": "stdout",
     "output_type": "stream",
     "text": [
      "1\n",
      "2\n",
      "3\n",
      "4\n",
      "5\n",
      "6\n",
      "7\n",
      "8\n",
      "9\n",
      "10\n"
     ]
    }
   ],
   "source": [
    "for j in range(1,11):\n",
    "    print(j)\n",
    "    if(j==5):\n",
    "        continue"
   ]
  },
  {
   "cell_type": "code",
   "execution_count": 71,
   "metadata": {},
   "outputs": [
    {
     "name": "stdout",
     "output_type": "stream",
     "text": [
      "10\n",
      "11\n",
      "12\n",
      "13\n",
      "14\n",
      "15\n",
      "16\n",
      "17\n",
      "18\n",
      "19\n",
      "20\n",
      "21\n",
      "22\n",
      "23\n",
      "24\n",
      "25\n",
      "26\n",
      "27\n",
      "28\n",
      "29\n",
      "30\n",
      "1\n",
      "2\n",
      "3\n",
      "4\n",
      "5\n",
      "6\n",
      "7\n",
      "8\n",
      "9\n",
      "10\n",
      "Loop ends here\n"
     ]
    }
   ],
   "source": [
    "for i in range(10,50):\n",
    "    print(i)\n",
    "    if(i==30):\n",
    "        break\n",
    "\n",
    "for j in range(1,11):\n",
    "    if(j==5):\n",
    "        continue\n",
    "    print(j)\n",
    "\n",
    "for k in range(1,3):\n",
    "    pass\n",
    "print(\"Loop ends here\")\n"
   ]
  },
  {
   "cell_type": "code",
   "execution_count": 25,
   "metadata": {},
   "outputs": [
    {
     "name": "stdout",
     "output_type": "stream",
     "text": [
      "Enter your namehim\n",
      "Enter your age36\n",
      "Welcome  him\n",
      "Your age is  36\n",
      "After 5 years, your age will be : 41\n"
     ]
    }
   ],
   "source": [
    "name=input(\"Enter your name\")\n",
    "\n",
    "age=input(\"Enter your age\")\n",
    "\n",
    "print(\"Welcome \",name)\n",
    "\n",
    "print(\"Your age is \",age)\n",
    "\n",
    "print(\"After 5 years, your age will be :\",(int(age)+5))"
   ]
  },
  {
   "cell_type": "code",
   "execution_count": 34,
   "metadata": {},
   "outputs": [
    {
     "name": "stdout",
     "output_type": "stream",
     "text": [
      "\n",
      " Hello, welcome to Python:\n",
      " Hello, welcome to Python:\n",
      " Hello, welcome to Python:\n",
      " Hello, welcome to Python:\n",
      " Hello, welcome to Python:\n",
      " Hello, welcome to Python:\n",
      " Hello, welcome to Python:\n",
      " Hello, welcome to Python:\n",
      " Hello, welcome to Python:\n",
      "\n",
      "\n",
      "\n",
      "\n",
      "\n",
      "\n",
      "\n",
      "\n"
     ]
    }
   ],
   "source": [
    "import os\n",
    "\n",
    "newfile=open(\"Edureka_Py.txt\",\"w+\")\n",
    "\n",
    "for i in range(1,10):\n",
    "    newfile.write(\"\\n Hello, welcome to Python:\")\n",
    "    \n",
    "newfile=open(\"Edureka_Py.txt\",\"r+\")\n",
    "for i in range(1,10):\n",
    "    print(newfile.read())\n",
    "\n",
    "newfile.close()\n",
    "\n",
    "os.rename(\"Edureka_Py.txt\",\"edu_test11.txt\")\n",
    "\n",
    "#os.listdir()\n",
    "\n",
    "#os.remove(\"edu_test11.txt\")\n"
   ]
  },
  {
   "cell_type": "code",
   "execution_count": 31,
   "metadata": {
    "collapsed": true
   },
   "outputs": [],
   "source": [
    "os.remove(\"edu_test11.txt\")"
   ]
  },
  {
   "cell_type": "code",
   "execution_count": null,
   "metadata": {
    "collapsed": true
   },
   "outputs": [],
   "source": []
  },
  {
   "cell_type": "markdown",
   "metadata": {},
   "source": [
    "## Module 3"
   ]
  },
  {
   "cell_type": "code",
   "execution_count": 10,
   "metadata": {},
   "outputs": [
    {
     "name": "stdout",
     "output_type": "stream",
     "text": [
      "5\n"
     ]
    }
   ],
   "source": [
    "def edu1(a,b):\n",
    "    \n",
    "    c = a + b\n",
    "    return c\n",
    "\n",
    "print(edu1(2,3))"
   ]
  },
  {
   "cell_type": "code",
   "execution_count": 7,
   "metadata": {},
   "outputs": [
    {
     "data": {
      "text/plain": [
       "5"
      ]
     },
     "execution_count": 7,
     "metadata": {},
     "output_type": "execute_result"
    }
   ],
   "source": [
    "def edu2 (a,b):\n",
    "    return a+b\n",
    "\n",
    "edu2(2,3)\n",
    "\n"
   ]
  },
  {
   "cell_type": "code",
   "execution_count": 11,
   "metadata": {},
   "outputs": [
    {
     "name": "stdout",
     "output_type": "stream",
     "text": [
      "Input Ur name:him\n",
      "him\n"
     ]
    }
   ],
   "source": [
    "def name():\n",
    "    \n",
    "    nm = input(\"Input Ur name:\")\n",
    "    \n",
    "    return nm\n",
    "\n",
    "nm1 = name()\n",
    "\n",
    "print(nm1)"
   ]
  },
  {
   "cell_type": "code",
   "execution_count": 10,
   "metadata": {},
   "outputs": [
    {
     "name": "stdout",
     "output_type": "stream",
     "text": [
      "<__main__.number object at 0x7f04a81b44e0>\n"
     ]
    }
   ],
   "source": [
    "class number():\n",
    "    \n",
    "    pass\n",
    "x=number()\n",
    "print(x)\n"
   ]
  },
  {
   "cell_type": "code",
   "execution_count": 81,
   "metadata": {},
   "outputs": [
    {
     "data": {
      "text/plain": [
       "5"
      ]
     },
     "execution_count": 81,
     "metadata": {},
     "output_type": "execute_result"
    }
   ],
   "source": [
    "z = test(2,3)\n",
    "z"
   ]
  },
  {
   "cell_type": "code",
   "execution_count": 82,
   "metadata": {},
   "outputs": [
    {
     "name": "stdout",
     "output_type": "stream",
     "text": [
      "Input Ur name:him\n",
      "him\n"
     ]
    }
   ],
   "source": [
    "def name():\n",
    "    nm = input(\"Input Ur name:\")\n",
    "    return nm\n",
    "nm = name()\n",
    "print(nm)\n",
    "\n",
    "def add(a,b):\n",
    "    return a+b\n",
    "\n",
    "add(5,4)\n",
    "\n",
    "def test(a,b):\n",
    "    c=a+b\n",
    "    return c"
   ]
  },
  {
   "cell_type": "code",
   "execution_count": 13,
   "metadata": {},
   "outputs": [
    {
     "name": "stdout",
     "output_type": "stream",
     "text": [
      "<class 'enumerate'>\n",
      "[(20, 'bread'), (21, 'milk'), (22, 'butter')]\n"
     ]
    }
   ],
   "source": [
    "grocery = ['bread', 'milk', 'butter']\n",
    "\n",
    "enumerateGrocery = enumerate(grocery)\n",
    "\n",
    "print(type(enumerateGrocery))\n",
    "\n",
    "\n",
    "enumerateGrocery = enumerate(grocery, 20)\n",
    "\n",
    "print(list(enumerateGrocery))"
   ]
  },
  {
   "cell_type": "code",
   "execution_count": 12,
   "metadata": {
    "collapsed": true
   },
   "outputs": [],
   "source": [
    "def edu(a):\n",
    "    return a*a\n",
    "\n",
    "edu(2)"
   ]
  },
  {
   "cell_type": "code",
   "execution_count": 19,
   "metadata": {},
   "outputs": [
    {
     "name": "stdout",
     "output_type": "stream",
     "text": [
      "25\n"
     ]
    }
   ],
   "source": [
    "square = lambda n : n*n\n",
    "\n",
    "num = square(5)\n",
    "print (num)"
   ]
  },
  {
   "cell_type": "code",
   "execution_count": 16,
   "metadata": {},
   "outputs": [
    {
     "name": "stdout",
     "output_type": "stream",
     "text": [
      "[1, 4, 9, 16, 25]\n"
     ]
    }
   ],
   "source": [
    "items = [1, 2, 3, 4, 5] \n",
    "\n",
    "squared = list(map(lambda x: x**2, items))\n",
    "\n",
    "print(squared)"
   ]
  },
  {
   "cell_type": "code",
   "execution_count": 20,
   "metadata": {},
   "outputs": [
    {
     "name": "stdout",
     "output_type": "stream",
     "text": [
      "[1, 2, 3, 4]\n"
     ]
    }
   ],
   "source": [
    "number_list = range(-5, 5)\n",
    "\n",
    "less_than_zero = list(filter(lambda x: x > 0, number_list))\n",
    "\n",
    "print(less_than_zero)"
   ]
  },
  {
   "cell_type": "code",
   "execution_count": 27,
   "metadata": {},
   "outputs": [
    {
     "name": "stdout",
     "output_type": "stream",
     "text": [
      "24\n"
     ]
    }
   ],
   "source": [
    "from functools import reduce\n",
    "\n",
    "product = reduce((lambda x, y: x * y), [1, 2, 3, 4])\n",
    "\n",
    "print(product)"
   ]
  },
  {
   "cell_type": "code",
   "execution_count": null,
   "metadata": {
    "collapsed": true
   },
   "outputs": [],
   "source": [
    "items = [1, 2, 3, 4, 5]\n",
    "squared = list(map(lambda x: x**2, items))\n",
    "print(squared)\n",
    "\n",
    "\n",
    "#filter\n",
    "\n",
    "number_list = range(-5, 5)\n",
    "less_than_zero = list(filter(lambda x: x < 0, number_list))\n",
    "print(less_than_zero)\n",
    "\n",
    "#reduce\n",
    "\n",
    "from functools import reduce\n",
    "product = reduce((lambda x, y: x * y), [1, 2, 3, 4])\n",
    "print(product)"
   ]
  },
  {
   "cell_type": "code",
   "execution_count": 38,
   "metadata": {},
   "outputs": [
    {
     "name": "stdout",
     "output_type": "stream",
     "text": [
      "<__main__.number object at 0x7f9c246112b0>\n"
     ]
    }
   ],
   "source": [
    "#Creating a Class\n",
    "\n",
    "class number():\n",
    "    pass\n",
    "\n",
    "\n",
    "x=number()\n",
    "\n",
    "\n",
    "print(x)"
   ]
  },
  {
   "cell_type": "code",
   "execution_count": 91,
   "metadata": {
    "collapsed": true
   },
   "outputs": [],
   "source": [
    "class Person:\n",
    "    def __init__(self, name, age):\n",
    "        self.name = name\n",
    "        self.age = age\n",
    "\n",
    "p1 = Person(\"John\", 36)\n",
    "\n",
    "print(p1.name)\n",
    "print(p1.age)"
   ]
  },
  {
   "cell_type": "code",
   "execution_count": 97,
   "metadata": {},
   "outputs": [
    {
     "name": "stdout",
     "output_type": "stream",
     "text": [
      "Hello my name is him\n"
     ]
    }
   ],
   "source": [
    "class Person:\n",
    "    \n",
    "    def __init__(self, name, age):\n",
    "        self.name = name\n",
    "        self.age = age\n",
    "        \n",
    "        \n",
    "    def myfunc(self):\n",
    "        print(\"Hello my name is \" + self.name)\n",
    "\n",
    "p1 = Person(\"him\", 30)\n",
    "p1.myfunc()"
   ]
  },
  {
   "cell_type": "code",
   "execution_count": null,
   "metadata": {
    "collapsed": true
   },
   "outputs": [],
   "source": [
    "def hello_world(): \n",
    "    \"\"\"Demonstrating docstring.\"\"\"\n",
    "   \n",
    "    return None\n",
    "\n",
    "\n",
    "#Creating a Class\n",
    "class number():\n",
    "    pass\n",
    "\n",
    "#Creating Instance of Class\n",
    "x=number()\n",
    "print(x)"
   ]
  },
  {
   "cell_type": "code",
   "execution_count": 9,
   "metadata": {},
   "outputs": [
    {
     "name": "stdout",
     "output_type": "stream",
     "text": [
      "[1, 4, 9, 16, 25]\n",
      "[-5, -4, -3, -2, -1]\n",
      "24\n"
     ]
    }
   ],
   "source": [
    "#Map\n",
    "\n",
    "items = [1, 2, 3, 4, 5]\n",
    "squared = list(map(lambda x: x**2, items))\n",
    "print(squared)\n",
    "\n",
    "#filter\n",
    "\n",
    "number_list = range(-5, 5)\n",
    "less_than_zero = list(filter(lambda x: x < 0, number_list))\n",
    "print(less_than_zero)\n",
    "\n",
    "#reduce\n",
    "\n",
    "from functools import reduce\n",
    "product = reduce((lambda x, y: x * y), [1, 2, 3, 4])\n",
    "print(product)\n"
   ]
  },
  {
   "cell_type": "code",
   "execution_count": 33,
   "metadata": {},
   "outputs": [
    {
     "name": "stdout",
     "output_type": "stream",
     "text": [
      "30\n",
      "Addition is : 110\n"
     ]
    }
   ],
   "source": [
    "a=30\n",
    "\n",
    "def add(b):\n",
    "    d=40\n",
    "    #print(\"d= \",d)\n",
    "    sum = b + d + a\n",
    "    print(\"Addition is :\",sum)\n",
    "\n",
    "print(a)\n",
    "\n",
    "add(40)\n",
    "\n",
    "#print(d)\n"
   ]
  },
  {
   "cell_type": "code",
   "execution_count": 31,
   "metadata": {},
   "outputs": [
    {
     "name": "stdout",
     "output_type": "stream",
     "text": [
      "Name:  Annie\n",
      "Age : 25\n"
     ]
    },
    {
     "data": {
      "text/plain": [
       "()"
      ]
     },
     "execution_count": 31,
     "metadata": {},
     "output_type": "execute_result"
    }
   ],
   "source": [
    "def info(name,age=50):\n",
    "    \n",
    "    print(\"Name: \",name)\n",
    "    \n",
    "    print(\"Age :\",age)\n",
    "    \n",
    "    return()\n",
    "\n",
    "info(name=\"Miki\")\n",
    "info(age=25,name=\"Annie\")\n"
   ]
  },
  {
   "cell_type": "code",
   "execution_count": null,
   "metadata": {
    "collapsed": true
   },
   "outputs": [],
   "source": []
  },
  {
   "cell_type": "code",
   "execution_count": 37,
   "metadata": {},
   "outputs": [
    {
     "name": "stdout",
     "output_type": "stream",
     "text": [
      "Miki\n",
      "Dave\n"
     ]
    },
    {
     "data": {
      "text/plain": [
       "()"
      ]
     },
     "execution_count": 37,
     "metadata": {},
     "output_type": "execute_result"
    }
   ],
   "source": [
    "def info(user,*users):\n",
    "    \n",
    "    print(user)\n",
    "    \n",
    "    for var in users:\n",
    "        \n",
    "        print(var)\n",
    "        return()\n",
    "\n",
    "info(\"Annie\")\n",
    "info(\"Miki\",\"Dave\")"
   ]
  },
  {
   "cell_type": "code",
   "execution_count": 41,
   "metadata": {},
   "outputs": [
    {
     "name": "stdout",
     "output_type": "stream",
     "text": [
      "bad day\n"
     ]
    }
   ],
   "source": [
    "class edu:\n",
    "    \n",
    "    def hello(self):\n",
    "        print(\"Good day\")\n",
    "        \n",
    "    def hello1(self):\n",
    "        print(\"bad day\")\n",
    "        \n",
    "\n",
    "\n",
    "ob = edu()\n",
    "\n",
    "ob.hello1()\n"
   ]
  },
  {
   "cell_type": "code",
   "execution_count": 47,
   "metadata": {},
   "outputs": [
    {
     "name": "stdout",
     "output_type": "stream",
     "text": [
      "Edureka.__name__ {'__module__': '__main__', 'empcount': 0, '__dict__': <attribute '__dict__' of 'Edureka' objects>, '__weakref__': <attribute '__weakref__' of 'Edureka' objects>, '__doc__': None}\n"
     ]
    }
   ],
   "source": [
    "class Edureka:\n",
    "    empcount=0\n",
    "\n",
    "\n",
    "print(\"Edureka.__name__\",Edureka.__dict__)\n",
    "#print(\"Edureka.__name__\",Edureka.__name__)\n",
    "#print(\"Edureka.__module__:\",Edureka.__module__)\n",
    "\n",
    "\n"
   ]
  },
  {
   "cell_type": "code",
   "execution_count": null,
   "metadata": {
    "collapsed": true
   },
   "outputs": [],
   "source": []
  },
  {
   "cell_type": "code",
   "execution_count": 56,
   "metadata": {},
   "outputs": [
    {
     "name": "stdout",
     "output_type": "stream",
     "text": [
      "I am Public\n",
      "I am Protected\n",
      "I am Private\n"
     ]
    }
   ],
   "source": [
    "class Edureka():\n",
    "    def __init__(self):\n",
    "        self.__pri=(\"I am Private\")\n",
    "        self._pro=(\"I am Protected\")\n",
    "        self.pub=(\"I am Public\")\n",
    "\n",
    "ob=Edureka()\n",
    "\n",
    "print(ob.pub)\n",
    "print(ob._pro)\n",
    "\n",
    "#print(ob.__pri)\n",
    "\n",
    "print(ob._Edureka__pri)"
   ]
  },
  {
   "cell_type": "code",
   "execution_count": 58,
   "metadata": {},
   "outputs": [
    {
     "name": "stdout",
     "output_type": "stream",
     "text": [
      "public method\n",
      "this is private!!\n"
     ]
    }
   ],
   "source": [
    "\n",
    "class MyClass:\n",
    "    \n",
    "    def myPublicMethod(self):\n",
    "        \n",
    "        print('public method')\n",
    "        \n",
    "    def __myPrivateMethod(self):\n",
    "        \n",
    "        print('this is private!!')\n",
    "\n",
    "obj = MyClass()\n",
    "\n",
    "obj.myPublicMethod()\n",
    "\n",
    "\n",
    "obj._MyClass__myPrivateMethod()\n",
    "\n",
    "\n"
   ]
  },
  {
   "cell_type": "code",
   "execution_count": 1,
   "metadata": {},
   "outputs": [],
   "source": [
    "class test:\n",
    "    \n",
    "    def __init__(self,eid,name):\n",
    "        self.eid =eid\n",
    "        self.name = name\n",
    "        \n",
    "    def __del__(self):\n",
    "        print(\"object is deleted\")\n",
    "        \n",
    "    \n",
    "e = test(1,\"him\")\n",
    "e.__dict__\n",
    "e.name\n",
    "\n",
    "del e.eid\n",
    "del e.name\n"
   ]
  },
  {
   "cell_type": "code",
   "execution_count": null,
   "metadata": {
    "collapsed": true
   },
   "outputs": [],
   "source": []
  },
  {
   "cell_type": "code",
   "execution_count": null,
   "metadata": {
    "collapsed": true
   },
   "outputs": [],
   "source": []
  },
  {
   "cell_type": "code",
   "execution_count": null,
   "metadata": {
    "collapsed": true
   },
   "outputs": [],
   "source": []
  }
 ],
 "metadata": {
  "kernelspec": {
   "display_name": "Python 3",
   "language": "python",
   "name": "python3"
  },
  "language_info": {
   "codemirror_mode": {
    "name": "ipython",
    "version": 3
   },
   "file_extension": ".py",
   "mimetype": "text/x-python",
   "name": "python",
   "nbconvert_exporter": "python",
   "pygments_lexer": "ipython3",
   "version": "3.7.7"
  }
 },
 "nbformat": 4,
 "nbformat_minor": 2
}
